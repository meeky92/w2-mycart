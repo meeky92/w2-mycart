{
 "cells": [
  {
   "cell_type": "code",
   "execution_count": null,
   "id": "5c1e6f0c",
   "metadata": {},
   "outputs": [],
   "source": [
    "# Build a shopping cart program with the following capabilities:\n",
    "\n",
    "# 1) Takes in an input\n",
    "# 2) Stores user input into a dictionary or list\n",
    "# 3) The User can add or delete items\n",
    "# 4) The User can see current shopping list\n",
    "# 5) The program Loops until user 'quits'\n",
    "# 6) Upon quiting the program, prints out a receipt of the items with total and quantity."
   ]
  },
  {
   "cell_type": "code",
   "execution_count": 14,
   "id": "20176ae5",
   "metadata": {},
   "outputs": [
    {
     "name": "stdout",
     "output_type": "stream",
     "text": [
      "Welcome to E-Mart!\n",
      "What would you like to do? Add/Remove/Show/Clear/Checkout/Quit Quit\n"
     ]
    },
    {
     "data": {
      "text/plain": [
       "{}"
      ]
     },
     "execution_count": 14,
     "metadata": {},
     "output_type": "execute_result"
    }
   ],
   "source": [
    "def shopping_cart():\n",
    "    my_cart = {}\n",
    "\n",
    "    print(\"Welcome to E-Mart!\")\n",
    "\n",
    "    while True:\n",
    "        ask = input('What would you like to do? Add/Remove/Show/Clear/Checkout/Quit ').title()\n",
    "        while ask not in {'Add', 'Remove', 'Show', 'Clear', 'Checkout', 'Quit'}:\n",
    "            ask = input('Not a valid response. Add/Remove/Show/Clear/Checkout/Quit')\n",
    "        if ask == 'Quit':\n",
    "            break\n",
    "\n",
    "        if ask == 'Add':\n",
    "            item = input('What would you like to add? ').title()\n",
    "            price = float(input('Please enter the price '))\n",
    "            quantity = int(input('How many would you like to add? '))\n",
    "            my_cart[item] = [price, quantity]\n",
    "            print(f\"{quantity} x {item} has been added to your cart. \")\n",
    "\n",
    "        if ask == 'Remove':\n",
    "            remove_item = input('What item(s) would you like to remove? ')\n",
    "            if remove_item in my_cart:\n",
    "                my_cart.pop(remove_item)\n",
    "                print(f\"{remove_item} has been removed from your cart.\")\n",
    "            else:\n",
    "                print(f\"Item {remove_item} was not found in the cart, please try again.\")\n",
    "\n",
    "        if ask == 'Show':\n",
    "            print(\"Your current cart:\")\n",
    "            if not my_cart:\n",
    "                print(\"Your cart is empty!\")\n",
    "            else:\n",
    "                for key, value in my_cart.items():\n",
    "                    price, quantity = value\n",
    "                    print(f\"\\t {quantity} {key} x ${price:.2f}\")\n",
    "\n",
    "        if ask == 'Clear':\n",
    "            are_you_sure = input('Are you sure you want to clear your cart? y/n ')\n",
    "            while are_you_sure not in {'y', 'n'}:\n",
    "                are_you_sure = input('Not a valid response. Please type y or n ')\n",
    "            if are_you_sure == 'y':\n",
    "                print('Your cart has been cleared! ')\n",
    "                my_cart.clear()\n",
    "\n",
    "        if ask == 'Checkout':\n",
    "            total_cost = 0\n",
    "            for item in my_cart:\n",
    "                my_cart[item] = price, quantity\n",
    "                total_cost += price * quantity\n",
    "            print(f\"Here is your receipt. \\nYour total is ${total_cost:.2f}. \\nThank you for shopping!\")\n",
    "            break\n",
    "\n",
    "    return my_cart\n",
    "\n",
    "shopping_cart()"
   ]
  },
  {
   "cell_type": "code",
   "execution_count": null,
   "id": "57386ac5",
   "metadata": {},
   "outputs": [],
   "source": []
  }
 ],
 "metadata": {
  "kernelspec": {
   "display_name": "Python 3 (ipykernel)",
   "language": "python",
   "name": "python3"
  },
  "language_info": {
   "codemirror_mode": {
    "name": "ipython",
    "version": 3
   },
   "file_extension": ".py",
   "mimetype": "text/x-python",
   "name": "python",
   "nbconvert_exporter": "python",
   "pygments_lexer": "ipython3",
   "version": "3.9.12"
  }
 },
 "nbformat": 4,
 "nbformat_minor": 5
}
